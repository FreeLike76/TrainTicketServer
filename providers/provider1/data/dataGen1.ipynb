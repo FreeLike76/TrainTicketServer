{
 "cells": [
  {
   "cell_type": "markdown",
   "metadata": {},
   "source": [
    "# Imports"
   ]
  },
  {
   "cell_type": "code",
   "execution_count": 2,
   "metadata": {},
   "outputs": [],
   "source": [
    "import pandas as pd\n",
    "import numpy as np\n",
    "import datetime"
   ]
  },
  {
   "cell_type": "markdown",
   "metadata": {},
   "source": [
    "# Config"
   ]
  },
  {
   "cell_type": "code",
   "execution_count": 3,
   "metadata": {},
   "outputs": [],
   "source": [
    "np.random.seed(1)"
   ]
  },
  {
   "cell_type": "markdown",
   "metadata": {},
   "source": [
    "# Known data"
   ]
  },
  {
   "cell_type": "code",
   "execution_count": 1,
   "metadata": {},
   "outputs": [
    {
     "ename": "NameError",
     "evalue": "name 'pd' is not defined",
     "output_type": "error",
     "traceback": [
      "\u001b[1;31m---------------------------------------------------------------------------\u001b[0m",
      "\u001b[1;31mNameError\u001b[0m                                 Traceback (most recent call last)",
      "\u001b[1;32m~\\AppData\\Local\\Temp/ipykernel_2496/377257188.py\u001b[0m in \u001b[0;36m<module>\u001b[1;34m\u001b[0m\n\u001b[1;32m----> 1\u001b[1;33m \u001b[0mdf_tickets\u001b[0m \u001b[1;33m=\u001b[0m \u001b[0mpd\u001b[0m\u001b[1;33m.\u001b[0m\u001b[0mDataFrame\u001b[0m\u001b[1;33m(\u001b[0m\u001b[0mcolumns\u001b[0m\u001b[1;33m=\u001b[0m\u001b[1;33m[\u001b[0m\u001b[1;34m\"type\"\u001b[0m\u001b[1;33m,\u001b[0m \u001b[1;34m\"seatnum\"\u001b[0m\u001b[1;33m,\u001b[0m \u001b[1;34m\"price\"\u001b[0m\u001b[1;33m,\u001b[0m \u001b[1;34m\"from_city\"\u001b[0m\u001b[1;33m,\u001b[0m \u001b[1;34m\"to_city\"\u001b[0m\u001b[1;33m,\u001b[0m \u001b[1;34m\"traveltime\"\u001b[0m\u001b[1;33m,\u001b[0m \u001b[1;34m\"cityfromtime\"\u001b[0m\u001b[1;33m,\u001b[0m \u001b[1;34m\"cityfromdate\"\u001b[0m\u001b[1;33m]\u001b[0m\u001b[1;33m)\u001b[0m\u001b[1;33m\u001b[0m\u001b[1;33m\u001b[0m\u001b[0m\n\u001b[0m\u001b[0;32m      2\u001b[0m \u001b[1;33m\u001b[0m\u001b[0m\n\u001b[0;32m      3\u001b[0m \u001b[0mdf_tickets\u001b[0m\u001b[1;33m[\u001b[0m\u001b[1;34m\"type\"\u001b[0m\u001b[1;33m]\u001b[0m \u001b[1;33m=\u001b[0m \u001b[1;33m[\u001b[0m\u001b[1;36m3\u001b[0m \u001b[1;32mfor\u001b[0m \u001b[0mx\u001b[0m \u001b[1;32min\u001b[0m \u001b[0mrange\u001b[0m\u001b[1;33m(\u001b[0m\u001b[1;36m50\u001b[0m\u001b[1;33m)\u001b[0m\u001b[1;33m]\u001b[0m\u001b[1;33m\u001b[0m\u001b[1;33m\u001b[0m\u001b[0m\n\u001b[0;32m      4\u001b[0m \u001b[0mdf_tickets\u001b[0m\u001b[1;33m[\u001b[0m\u001b[1;34m\"seatnum\"\u001b[0m\u001b[1;33m]\u001b[0m \u001b[1;33m=\u001b[0m \u001b[1;33m[\u001b[0m\u001b[0mx\u001b[0m \u001b[1;32mfor\u001b[0m \u001b[0mx\u001b[0m \u001b[1;32min\u001b[0m \u001b[0mrange\u001b[0m\u001b[1;33m(\u001b[0m\u001b[1;36m50\u001b[0m\u001b[1;33m)\u001b[0m\u001b[1;33m]\u001b[0m\u001b[1;33m\u001b[0m\u001b[1;33m\u001b[0m\u001b[0m\n\u001b[0;32m      5\u001b[0m \u001b[0mdf_tickets\u001b[0m\u001b[1;33m[\u001b[0m\u001b[1;34m\"cityfrom\"\u001b[0m\u001b[1;33m]\u001b[0m \u001b[1;33m=\u001b[0m \u001b[1;33m[\u001b[0m\u001b[1;34m\"Rivne\"\u001b[0m \u001b[1;32mfor\u001b[0m \u001b[0mx\u001b[0m \u001b[1;32min\u001b[0m \u001b[0mrange\u001b[0m\u001b[1;33m(\u001b[0m\u001b[1;36m50\u001b[0m\u001b[1;33m)\u001b[0m\u001b[1;33m]\u001b[0m\u001b[1;33m\u001b[0m\u001b[1;33m\u001b[0m\u001b[0m\n",
      "\u001b[1;31mNameError\u001b[0m: name 'pd' is not defined"
     ]
    }
   ],
   "source": [
    "df_tickets = pd.DataFrame(columns=[\"id\", \"date\", \"time\", \"from_city\", \"to_city\", \"travel_time\", \"seat_type\", \"seat_num\", \"cost\"])\n",
    "\n",
    "df_tickets[\"id\"] = [x for x in range(1, 101)]\n",
    "df_tickets[\"date\"] = [\"2021-11-13\" for x in range(1, 101)]\n",
    "df_tickets[\"time\"] = [\"11:00\" for x in range(1, 101)]\n",
    "df_tickets[\"from_city\"] = [\"Rivne\" for x in range(1, 101)]\n",
    "df_tickets[\"to_city\"] = [\"Kyiv\" for x in range(1, 101)]\n",
    "df_tickets[\"travel_time\"] = [5 for x in range(1, 101)]\n",
    "df_tickets[\"seat_type\"] = [3 for x in range(1, 101)]\n",
    "df_tickets[\"seat_num\"] = [x for x in range(1, 101)]\n",
    "df_tickets[\"cost\"] = [300 for x in range(1, 101)]\n",
    "\n",
    "\n",
    "\n",
    "df_tickets"
   ]
  },
  {
   "cell_type": "code",
   "execution_count": 4,
   "metadata": {},
   "outputs": [],
   "source": [
    "conn = pyodbc.connect(\"Driver={SQL Server};\"\n",
    "                      \"Server=DESKTOP-L5ATCHA;\"\n",
    "                      \"Database=TrainTicketsP1;\"\n",
    "                      \"Trusted_Connection=yes;\")"
   ]
  },
  {
   "cell_type": "code",
   "execution_count": 5,
   "metadata": {},
   "outputs": [],
   "source": [
    "cursor = conn.cursor()"
   ]
  },
  {
   "cell_type": "code",
   "execution_count": 6,
   "metadata": {},
   "outputs": [],
   "source": [
    "for row in df_tickets.itertuples():\n",
    "    cursor.execute(\n",
    "        '''\n",
    "        insert into Tickets([Type], [SeatNum], [Status], [Price], [CityFrom], [CityTo], [TravelTime], [CityFromTime], [CityFromDate])\n",
    "        values(?,?,?,?,?,?,?,?,?)\n",
    "        ''',\n",
    "        row.type, row.seatnum, 0, row.price, row.cityfrom, row.cityto, row.traveltime, row.cityfromtime, row.cityfromdate\n",
    "    )"
   ]
  },
  {
   "cell_type": "code",
   "execution_count": 7,
   "metadata": {},
   "outputs": [],
   "source": [
    "conn.commit()\n",
    "cursor.close()\n",
    "conn.close()"
   ]
  }
 ],
 "metadata": {
  "interpreter": {
   "hash": "3eea31532cdeb76b55d4e55e58995476a962b2cf098db0698c37384ba00f3450"
  },
  "kernelspec": {
   "display_name": "Python 3.8.11 64-bit ('analysis': conda)",
   "language": "python",
   "name": "python3"
  },
  "language_info": {
   "codemirror_mode": {
    "name": "ipython",
    "version": 3
   },
   "file_extension": ".py",
   "mimetype": "text/x-python",
   "name": "python",
   "nbconvert_exporter": "python",
   "pygments_lexer": "ipython3",
   "version": "3.9.7"
  },
  "orig_nbformat": 4
 },
 "nbformat": 4,
 "nbformat_minor": 2
}
